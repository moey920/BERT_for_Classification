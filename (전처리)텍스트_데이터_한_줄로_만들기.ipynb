{
  "nbformat": 4,
  "nbformat_minor": 0,
  "metadata": {
    "colab": {
      "name": "(전처리)텍스트 데이터 한 줄로 만들기.ipynb",
      "provenance": [],
      "collapsed_sections": [],
      "mount_file_id": "1iND0ZagHF8VGaEiVJPjba_7ScXj8TWDM",
      "authorship_tag": "ABX9TyPG9N2aypGJxHxycPw+5aBE",
      "include_colab_link": true
    },
    "kernelspec": {
      "name": "python3",
      "display_name": "Python 3"
    }
  },
  "cells": [
    {
      "cell_type": "markdown",
      "metadata": {
        "id": "view-in-github",
        "colab_type": "text"
      },
      "source": [
        "<a href=\"https://colab.research.google.com/github/moey920/BERT_for_Classification/blob/master/(%EC%A0%84%EC%B2%98%EB%A6%AC)%ED%85%8D%EC%8A%A4%ED%8A%B8_%EB%8D%B0%EC%9D%B4%ED%84%B0_%ED%95%9C_%EC%A4%84%EB%A1%9C_%EB%A7%8C%EB%93%A4%EA%B8%B0.ipynb\" target=\"_parent\"><img src=\"https://colab.research.google.com/assets/colab-badge.svg\" alt=\"Open In Colab\"/></a>"
      ]
    },
    {
      "cell_type": "code",
      "metadata": {
        "id": "q-JmqUUt5WS1",
        "colab_type": "code",
        "colab": {}
      },
      "source": [
        "# 지정한 디렉토리(구글 드라이브)에서 *.txt로 모든 텍스트 파일을 읽어와 한꺼번에 처리합니다. output파일은 덮어쓰지않고 계속 이어쓰기 됩니다.\n",
        "import glob\n",
        "import sys\n",
        "\n",
        "files = glob.glob('/content/drive/My Drive/캐시카우_노하람인턴_공유폴더/seq2seq/extra dataset/seq2seq_hand_txt/*.txt')\n",
        "for file in files:\n",
        "    with open(file, 'r') as f:\n",
        "        lines = f.readlines()\n",
        "        lines = list(map(lambda s: s.strip(), lines))\n",
        "        sys.stdout = open('/content/drive/My Drive/캐시카우_노하람인턴_공유폴더/BERT를 이용한 브랜드 분류/data/output/output2.txt','a')\n",
        "        print(''.join(lines))\n",
        "        print('\\n')"
      ],
      "execution_count": 0,
      "outputs": []
    }
  ]
}