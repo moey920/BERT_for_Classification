{
  "nbformat": 4,
  "nbformat_minor": 0,
  "metadata": {
    "colab": {
      "name": "백준_PyPy3.ipynb",
      "provenance": [],
      "collapsed_sections": [],
      "authorship_tag": "ABX9TyPsF7r1KMCJ3n76oQaO6lyn",
      "include_colab_link": true
    },
    "kernelspec": {
      "name": "python3",
      "display_name": "Python 3"
    }
  },
  "cells": [
    {
      "cell_type": "markdown",
      "metadata": {
        "id": "view-in-github",
        "colab_type": "text"
      },
      "source": [
        "<a href=\"https://colab.research.google.com/github/moey920/BERT_for_Classification/blob/master/%EB%B0%B1%EC%A4%80_PyPy3.ipynb\" target=\"_parent\"><img src=\"https://colab.research.google.com/assets/colab-badge.svg\" alt=\"Open In Colab\"/></a>"
      ]
    },
    {
      "cell_type": "markdown",
      "metadata": {
        "id": "8Y6Kg46l1P-x",
        "colab_type": "text"
      },
      "source": [
        "# 백준 단계별 문제풀기"
      ]
    },
    {
      "cell_type": "markdown",
      "metadata": {
        "id": "LvLvaXlA1sjA",
        "colab_type": "text"
      },
      "source": [
        "## 입출력과 사칙연산"
      ]
    },
    {
      "cell_type": "markdown",
      "metadata": {
        "id": "cnPxI5PW1HMh",
        "colab_type": "text"
      },
      "source": [
        "### 1000번\n",
        "문제 : 두 정수 A와 B를 입력받은 다음, A+B를 출력하는 프로그램을 작성하시오.  \n",
        "입력 : 첫째 줄에 A와 B가 주어진다. (0 < A, B < 10)  \n",
        "출력 : 첫째 줄에 A+B를 출력한다.  \n",
        "\n",
        "https://www.acmicpc.net/problem/1000\n",
        "\n"
      ]
    },
    {
      "cell_type": "code",
      "metadata": {
        "id": "rh10MPBPyad0",
        "colab_type": "code",
        "colab": {
          "base_uri": "https://localhost:8080/",
          "height": 52
        },
        "outputId": "1caa3c13-74f6-4a78-b653-692a0612c8ad"
      },
      "source": [
        "#첫번째 풀이 map 이용(조건을 달아서. 근데 조건도 틀렸음. 나중에 A,B에 동시에 값을 조절하는 방법 알아보기)\n",
        "A,B = map(int, input().split())\n",
        "if (0<A,B<10) :\n",
        "  print(A+B)"
      ],
      "execution_count": 35,
      "outputs": [
        {
          "output_type": "stream",
          "text": [
            "11 11\n",
            "22\n"
          ],
          "name": "stdout"
        }
      ]
    },
    {
      "cell_type": "code",
      "metadata": {
        "id": "fcjd4Adk6jfs",
        "colab_type": "code",
        "colab": {
          "base_uri": "https://localhost:8080/",
          "height": 52
        },
        "outputId": "7aab442c-c793-4b99-b5a2-9e8187fa608c"
      },
      "source": [
        "# 두번째 풀이\n",
        "A,B = input().split()\n",
        "print(int(A)+int(B))"
      ],
      "execution_count": 24,
      "outputs": [
        {
          "output_type": "stream",
          "text": [
            "5 5\n",
            "10\n"
          ],
          "name": "stdout"
        }
      ]
    },
    {
      "cell_type": "markdown",
      "metadata": {
        "id": "SOn9W1me14qF",
        "colab_type": "text"
      },
      "source": [
        "### 1008번\n",
        "문제 : 두 정수 A와 B를 입력받은 다음, A/B를 출력하는 프로그램을 작성하시오.  \n",
        "입력 : 첫째 줄에 A와 B가 주어진다. (0 < A, B < 10)  \n",
        "출력 : 첫째 줄에 A/B를 출력한다. 실제 정답과 출력값의 절대오차 또는 상대오차가 10-9 이하이면 정답이다."
      ]
    },
    {
      "cell_type": "code",
      "metadata": {
        "id": "X4NALkQm2vhB",
        "colab_type": "code",
        "colab": {
          "base_uri": "https://localhost:8080/",
          "height": 52
        },
        "outputId": "ea07b7c2-95da-49ed-fd80-028f85ec2a4b"
      },
      "source": [
        "# 두번째 풀이\n",
        "A,B = input().split()\n",
        "print(int(A)/int(B))"
      ],
      "execution_count": 25,
      "outputs": [
        {
          "output_type": "stream",
          "text": [
            "1 2\n",
            "0.5\n"
          ],
          "name": "stdout"
        }
      ]
    },
    {
      "cell_type": "markdown",
      "metadata": {
        "id": "qQCHTXo86-KM",
        "colab_type": "text"
      },
      "source": [
        "### 10430번\n",
        "문제 :\n",
        "(A+B)%C는 ((A%C) + (B%C))%C 와 같을까?  \n",
        "(A×B)%C는 ((A%C) × (B%C))%C 와 같을까?  \n",
        "세 수 A, B, C가 주어졌을 때, 위의 네 가지 값을 구하는 프로그램을 작성하시오.\n",
        "\n",
        "입력 : 첫째 줄에 A, B, C가 순서대로 주어진다. (2 ≤ A, B, C ≤ 10000)\n",
        "출력 : 첫째 줄에 (A+B)%C, 둘째 줄에 ((A%C) + (B%C))%C, 셋째 줄에 (A×B)%C, 넷째 줄에 ((A%C) × (B%C))%C를 출력한다."
      ]
    },
    {
      "cell_type": "code",
      "metadata": {
        "id": "TYOxSiYt6vRL",
        "colab_type": "code",
        "colab": {
          "base_uri": "https://localhost:8080/",
          "height": 105
        },
        "outputId": "b8717953-ce6a-45d5-dca7-bd5c686c6776"
      },
      "source": [
        "A,B,C = input().split()\n",
        "A = int(A)\n",
        "B = int(B)\n",
        "C = int(C)\n",
        "print((A+B)%C)\n",
        "print(((A%C) + (B%C))%C)\n",
        "print((A*B)%C)\n",
        "print(((A%C)*(B%C))%C)"
      ],
      "execution_count": 32,
      "outputs": [
        {
          "output_type": "stream",
          "text": [
            "20 40 100\n",
            "60\n",
            "60\n",
            "0\n",
            "0\n"
          ],
          "name": "stdout"
        }
      ]
    },
    {
      "cell_type": "code",
      "metadata": {
        "id": "32XMZI3z8eQs",
        "colab_type": "code",
        "colab": {
          "base_uri": "https://localhost:8080/",
          "height": 105
        },
        "outputId": "d64c5449-cf13-41ca-8c5e-a7c6d650652d"
      },
      "source": [
        "A,B,C = map(int, input().split())\n",
        "if(2<=A,B,C<=10000) :\n",
        "  print((A+B)%C)\n",
        "  print((A%C + B%C)%C)\n",
        "  print((A*B)%C)\n",
        "  print((A%C * B%C)%C)"
      ],
      "execution_count": 37,
      "outputs": [
        {
          "output_type": "stream",
          "text": [
            "10001 100 10001\n",
            "100\n",
            "100\n",
            "0\n",
            "0\n"
          ],
          "name": "stdout"
        }
      ]
    },
    {
      "cell_type": "markdown",
      "metadata": {
        "id": "c7M28ye8-hGF",
        "colab_type": "text"
      },
      "source": [
        "## IF문"
      ]
    },
    {
      "cell_type": "markdown",
      "metadata": {
        "id": "6okw1GSa-jqz",
        "colab_type": "text"
      },
      "source": [
        "### 두 수 비교하기\n"
      ]
    },
    {
      "cell_type": "code",
      "metadata": {
        "id": "PfzvIKD_-mrX",
        "colab_type": "code",
        "colab": {}
      },
      "source": [
        ""
      ],
      "execution_count": null,
      "outputs": []
    }
  ]
}