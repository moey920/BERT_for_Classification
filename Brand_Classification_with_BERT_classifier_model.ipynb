{
  "nbformat": 4,
  "nbformat_minor": 0,
  "metadata": {
    "colab": {
      "name": "Brand Classification with BERT classifier model",
      "provenance": [],
      "toc_visible": true,
      "authorship_tag": "ABX9TyMZLXMrIax7x9QPQsWhZqd9",
      "include_colab_link": true
    },
    "kernelspec": {
      "name": "python3",
      "display_name": "Python 3"
    }
  },
  "cells": [
    {
      "cell_type": "markdown",
      "metadata": {
        "id": "view-in-github",
        "colab_type": "text"
      },
      "source": [
        "<a href=\"https://colab.research.google.com/github/moey920/BERT_for_Classification/blob/master/Brand_Classification_with_BERT_classifier_model.ipynb\" target=\"_parent\"><img src=\"https://colab.research.google.com/assets/colab-badge.svg\" alt=\"Open In Colab\"/></a>"
      ]
    },
    {
      "cell_type": "markdown",
      "metadata": {
        "id": "RTsqwsulIzGk",
        "colab_type": "text"
      },
      "source": [
        "# 설명\n",
        "- 목표 : 영수증을 input으로 넣으면 알맞은 브랜드로 분류\n",
        "- 과정 : \n",
        "        - 인풋데이터 처리\n",
        "         1) 영수증 이미지를 OCR로 텍스트로 변환(구글 비전)\n",
        "         2) 변환된 텍스트의 개행(\\n) 문자를 제거하여 한 줄짜리 데이터로 만듬\n",
        "         3) 각 데이터에 해당하는 브랜드 레이블링\n",
        "        - BERT TL(Transfer Learning) 프로세스 구축 \n",
        "         1) \n",
        "        - Pre-Trained 된 모델에 Text Classification 도메인 fine Tuning"
      ]
    },
    {
      "cell_type": "markdown",
      "metadata": {
        "id": "TVzUT91RHgFP",
        "colab_type": "text"
      },
      "source": [
        "# 데이터 수집 / 정제\n",
        "\n"
      ]
    },
    {
      "cell_type": "markdown",
      "metadata": {
        "id": "Nut-A5Y9MD6F",
        "colab_type": "text"
      },
      "source": [
        "# 가격(비용)\n",
        "\n",
        "구글 클라우드 비전 API 이용시 \n",
        "- DOCUMENT_TEXT_DETECTION : 문서(PDF/TIFF)와 같은 밀집 텍스트 이미지와 필기 입력이 포함된 이미지에 OCR을 수행합니다. TEXT_DETECTION은 희소 텍스트 이미지에 사용할 수 있습니다. DOCUMENT_TEXT_DETECTION과 TEXT_DETECTION이 모두 존재하는 경우 우선 적용됩니다.\n",
        "\n",
        " 위의 내용에 해당하는 비용은 1,000건당 0.60$, 한국 돈으로 734원에 해당합니다. 그럼 데이터 한 건 당 발생하는 비용을 0.7로 계산해도 될 것 같습니다."
      ]
    },
    {
      "cell_type": "code",
      "metadata": {
        "id": "g0pBwFISMJyv",
        "colab_type": "code",
        "colab": {}
      },
      "source": [
        ""
      ],
      "execution_count": 0,
      "outputs": []
    }
  ]
}